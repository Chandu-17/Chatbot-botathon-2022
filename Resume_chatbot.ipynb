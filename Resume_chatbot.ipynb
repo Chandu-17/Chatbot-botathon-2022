{
  "nbformat": 4,
  "nbformat_minor": 0,
  "metadata": {
    "colab": {
      "provenance": [],
      "collapsed_sections": []
    },
    "kernelspec": {
      "name": "python3",
      "display_name": "Python 3"
    },
    "language_info": {
      "name": "python"
    }
  },
  "cells": [
    {
      "cell_type": "code",
      "source": [
        "import chatterbot\n",
        "%pip install chatterbot"
      ],
      "metadata": {
        "colab": {
          "base_uri": "https://localhost:8080/"
        },
        "id": "ZUDNyOwUnXuT",
        "outputId": "19f9371d-460d-439d-90c9-8caa47fd4c60"
      },
      "execution_count": null,
      "outputs": [
        {
          "output_type": "stream",
          "name": "stdout",
          "text": [
            "Looking in indexes: https://pypi.org/simple, https://us-python.pkg.dev/colab-wheels/public/simple/\n",
            "Requirement already satisfied: chatterbot in /usr/local/lib/python3.7/dist-packages (1.0.8)\n",
            "Requirement already satisfied: pytz in /usr/local/lib/python3.7/dist-packages (from chatterbot) (2022.4)\n",
            "Requirement already satisfied: sqlalchemy<1.4,>=1.3 in /usr/local/lib/python3.7/dist-packages (from chatterbot) (1.3.24)\n",
            "Requirement already satisfied: mathparse<0.2,>=0.1 in /usr/local/lib/python3.7/dist-packages (from chatterbot) (0.1.2)\n",
            "Requirement already satisfied: python-dateutil<2.9,>=2.8 in /usr/local/lib/python3.7/dist-packages (from chatterbot) (2.8.2)\n",
            "Requirement already satisfied: six>=1.5 in /usr/local/lib/python3.7/dist-packages (from python-dateutil<2.9,>=2.8->chatterbot) (1.15.0)\n"
          ]
        }
      ]
    },
    {
      "cell_type": "code",
      "execution_count": null,
      "metadata": {
        "id": "1DEXsyr1nN-x"
      },
      "outputs": [],
      "source": [
        "from flask import Flask, render_template, request\n",
        "from chatterbot import ChatBot\n",
        "from chatterbot.trainers import ChatterBotCorpusTrainer\n",
        "from chatterbot.trainers import ListTrainer"
      ]
    },
    {
      "cell_type": "code",
      "source": [
        "app = Flask(__name__)\n"
      ],
      "metadata": {
        "id": "co7SkSGgnjcZ"
      },
      "execution_count": null,
      "outputs": []
    },
    {
      "cell_type": "code",
      "source": [
        "with open('file.txt','r') as file:\n",
        "    conversation = file.read()"
      ],
      "metadata": {
        "id": "YMjuFCjXnn0E"
      },
      "execution_count": null,
      "outputs": []
    },
    {
      "cell_type": "code",
      "source": [
        "bott = ChatBot(\"Batch 37-ChatBot\")\n",
        "trainer2 = ListTrainer(bott)\n",
        "trainer2.train([    \"Hey\",\n",
        "    \"Hi there!\",\n",
        "    \"Hi\",\n",
        "    \"Hi!\",\n",
        "    \"How are you doing?\",\n",
        "    \"I'm doing great.\",\n",
        "    \"That is good to hear\",\n",
        "    \"Thank you.\",\n",
        "    \"You're welcome.\",\n",
        "    \"What is your name?\", \"My name is Resume ChatBot\",\n",
        "    \"Who created you?\", \"BATCH 37\",\n",
        "    \"Tell me about yourself\",\n",
        "    \"My name is Mohan and likith. I am a third year computer engineering student at Kare\",\n",
        "    \"Contact\",\n",
        "    \"Email :mohanchandukamani@gmail.com, Mobile number : +91 9021393816 Location : krishnankovil, Tamilnadu\",\n",
        "    \"Education\",\n",
        "    \"Bachelor of Engineering (B.E) ,Electronics and communication Engineering ,KARE SRIVILLIPUTTUR '\\n'2019 - 2023 '\\n'CGPA: 8.84/10\"\n",
        " ])\n",
        "\n"
      ],
      "metadata": {
        "id": "-jWHtHaKoWB5"
      },
      "execution_count": null,
      "outputs": []
    },
    {
      "cell_type": "code",
      "source": [
        "trainer = ChatterBotCorpusTrainer(bott)\n",
        "trainer.train(\"chatterbot.corpus.english\")"
      ],
      "metadata": {
        "id": "vjZesuszpmV8"
      },
      "execution_count": null,
      "outputs": []
    },
    {
      "cell_type": "code",
      "source": [
        "@app.route(\"/\")\n",
        "def home(): \n",
        "\treturn render_template(\"home.html\")\n"
      ],
      "metadata": {
        "id": "3Zug_ZanqJBs"
      },
      "execution_count": null,
      "outputs": []
    },
    {
      "cell_type": "code",
      "source": [
        "@app.route(\"/get\")\n",
        "def get_bot_response():\n",
        "\tuserText = request.args.get('msg')\n",
        "\treturn str(bott.get_response(userText))\n",
        "if __name__ == \"__main__\":\n",
        "\tapp.run()"
      ],
      "metadata": {
        "colab": {
          "base_uri": "https://localhost:8080/"
        },
        "id": "8GZq7nejqVSj",
        "outputId": "68bb5d3d-8583-4d95-c846-6a75e2e0045b"
      },
      "execution_count": null,
      "outputs": [
        {
          "output_type": "stream",
          "name": "stdout",
          "text": [
            " * Serving Flask app \"__main__\" (lazy loading)\n",
            " * Environment: production\n",
            "\u001b[31m   WARNING: This is a development server. Do not use it in a production deployment.\u001b[0m\n",
            "\u001b[2m   Use a production WSGI server instead.\u001b[0m\n",
            " * Debug mode: off\n"
          ]
        },
        {
          "output_type": "stream",
          "name": "stderr",
          "text": [
            "INFO:werkzeug: * Running on http://127.0.0.1:5000/ (Press CTRL+C to quit)\n"
          ]
        }
      ]
    }
  ]
}